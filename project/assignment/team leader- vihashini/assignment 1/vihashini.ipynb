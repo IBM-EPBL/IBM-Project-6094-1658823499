{
  "nbformat": 4,
  "nbformat_minor": 0,
  "metadata": {
    "colab": {
      "provenance": []
    },
    "kernelspec": {
      "name": "python3",
      "display_name": "Python 3"
    },
    "language_info": {
      "name": "python"
    }
  },
  "cells": [
    {
      "cell_type": "markdown",
      "source": [
        "##Basic Python"
      ],
      "metadata": {
        "id": "IXAmRDv-FztP"
      }
    },
    {
      "cell_type": "markdown",
      "source": [
        "##1. Split this string"
      ],
      "metadata": {
        "id": "8zJW1MA4F510"
      }
    },
    {
      "cell_type": "code",
      "source": [
        "string = \"Hi there Sam!\"\n",
        "string.split()"
      ],
      "metadata": {
        "colab": {
          "base_uri": "https://localhost:8080/"
        },
        "id": "okupznd0F-OX",
        "outputId": "fb290c72-8001-4032-9929-7c22ed044ee7"
      },
      "execution_count": 1,
      "outputs": [
        {
          "output_type": "execute_result",
          "data": {
            "text/plain": [
              "['Hi', 'there', 'Sam!']"
            ]
          },
          "metadata": {},
          "execution_count": 1
        }
      ]
    },
    {
      "cell_type": "markdown",
      "source": [
        "##2. Use .format() to print the following string"
      ],
      "metadata": {
        "id": "fQZPkoQjGLd_"
      }
    },
    {
      "cell_type": "markdown",
      "source": [
        "##Output should be: The diameter of Earth is 12742 kilometers."
      ],
      "metadata": {
        "id": "FpxzSoJoGQmY"
      }
    },
    {
      "cell_type": "code",
      "source": [
        "planet = \"Earth\"\n",
        "diameter = 12742\n",
        "print('The diameter of {} is kilometers.'.format(planet,diameter));"
      ],
      "metadata": {
        "colab": {
          "base_uri": "https://localhost:8080/"
        },
        "id": "AD8D9xPsGRuB",
        "outputId": "33ec18a9-cb3c-4a17-f4da-53a4eaab4fc9"
      },
      "execution_count": 2,
      "outputs": [
        {
          "output_type": "stream",
          "name": "stdout",
          "text": [
            "The diameter of Earth is kilometers.\n"
          ]
        }
      ]
    },
    {
      "cell_type": "markdown",
      "source": [
        "##3. In this nest dictionary grab the word \"hello\""
      ],
      "metadata": {
        "id": "tNZ2FeSkGdzy"
      }
    },
    {
      "cell_type": "code",
      "source": [
        "d = {'k1':[1,2,3,{'tricky':['oh','man','inception',{'target':[1,2,3,'hello']}]}]}"
      ],
      "metadata": {
        "id": "foafZyqzGe53"
      },
      "execution_count": 3,
      "outputs": []
    },
    {
      "cell_type": "code",
      "source": [
        "lst=[1,2,[3,4],[5,[100,200,['hello']],23,11],1,7]\n",
        "print(lst[3][1][2][0])"
      ],
      "metadata": {
        "colab": {
          "base_uri": "https://localhost:8080/"
        },
        "id": "qeHhINYpGiut",
        "outputId": "c9e447de-13b9-46b4-8c2d-6e3c4a43d3fc"
      },
      "execution_count": 4,
      "outputs": [
        {
          "output_type": "stream",
          "name": "stdout",
          "text": [
            "hello\n"
          ]
        }
      ]
    },
    {
      "cell_type": "markdown",
      "source": [
        "##Numpy"
      ],
      "metadata": {
        "id": "7lqIo8DnGqVv"
      }
    },
    {
      "cell_type": "code",
      "source": [
        "import numpy as np"
      ],
      "metadata": {
        "id": "7xRDSeodGrbY"
      },
      "execution_count": 5,
      "outputs": []
    },
    {
      "cell_type": "markdown",
      "source": [
        "##4.1 Create an array of 10 zeros?"
      ],
      "metadata": {
        "id": "dHgUzKDrGytu"
      }
    },
    {
      "cell_type": "markdown",
      "source": [
        "##4.1 Create an array of 10 zeros?"
      ],
      "metadata": {
        "id": "HlBFK04DG4zu"
      }
    },
    {
      "cell_type": "code",
      "source": [
        "import numpy as np\n",
        "array=np.zeros(10)\n",
        "print(\"An array off 10 zeros:\")\n",
        "print(array)"
      ],
      "metadata": {
        "colab": {
          "base_uri": "https://localhost:8080/"
        },
        "id": "B4bR4VLXG9ie",
        "outputId": "f2e0fcf8-60fa-47a9-82b8-535464627d5b"
      },
      "execution_count": 7,
      "outputs": [
        {
          "output_type": "stream",
          "name": "stdout",
          "text": [
            "An array off 10 zeros:\n",
            "[0. 0. 0. 0. 0. 0. 0. 0. 0. 0.]\n"
          ]
        }
      ]
    },
    {
      "cell_type": "code",
      "source": [
        "array=np.ones(10)*5\n",
        "print(\"An array of 10 fives:\")\n",
        "print(array)"
      ],
      "metadata": {
        "colab": {
          "base_uri": "https://localhost:8080/"
        },
        "id": "_NUWkjW-HCu2",
        "outputId": "ca2f51a1-ef04-4429-cb4c-792896004f89"
      },
      "execution_count": 8,
      "outputs": [
        {
          "output_type": "stream",
          "name": "stdout",
          "text": [
            "An array of 10 fives:\n",
            "[5. 5. 5. 5. 5. 5. 5. 5. 5. 5.]\n"
          ]
        }
      ]
    },
    {
      "cell_type": "markdown",
      "source": [
        "##5. Create an array of all the even integers from 20 to 35"
      ],
      "metadata": {
        "id": "odp6YojJHLip"
      }
    },
    {
      "cell_type": "code",
      "source": [
        "import numpy as np\n",
        "array=np.arange(30,71,2)\n",
        "print(\"An array of all the even integers from 20 to 35\")\n",
        "print(array)"
      ],
      "metadata": {
        "colab": {
          "base_uri": "https://localhost:8080/"
        },
        "id": "bkQe2DcTHSfZ",
        "outputId": "7c2a1c23-074a-448c-9057-45a535c41ca8"
      },
      "execution_count": 9,
      "outputs": [
        {
          "output_type": "stream",
          "name": "stdout",
          "text": [
            "An array of all the even integers from 20 to 35\n",
            "[30 32 34 36 38 40 42 44 46 48 50 52 54 56 58 60 62 64 66 68 70]\n"
          ]
        }
      ]
    },
    {
      "cell_type": "markdown",
      "source": [
        "##6. Create a 3x3 matrix with values ranging from 0 to 8"
      ],
      "metadata": {
        "id": "4FhmQVLfHZk1"
      }
    },
    {
      "cell_type": "code",
      "source": [
        "import numpy as np\n",
        "x=np.arange(2,11).reshape(3,3)\n",
        "print(x)"
      ],
      "metadata": {
        "colab": {
          "base_uri": "https://localhost:8080/"
        },
        "id": "99O-3K3tHbVj",
        "outputId": "8bdbd7c9-e865-4c87-fb2a-142b0d1b888e"
      },
      "execution_count": 10,
      "outputs": [
        {
          "output_type": "stream",
          "name": "stdout",
          "text": [
            "[[ 2  3  4]\n",
            " [ 5  6  7]\n",
            " [ 8  9 10]]\n"
          ]
        }
      ]
    },
    {
      "cell_type": "markdown",
      "source": [
        "##7. Concatinate a and b"
      ],
      "metadata": {
        "id": "iGC_8WRjHn4F"
      }
    },
    {
      "cell_type": "markdown",
      "source": [
        "##a = np.array([1, 2, 3]), b = np.array([4, 5, 6])"
      ],
      "metadata": {
        "id": "ozPnYQDFHs-e"
      }
    },
    {
      "cell_type": "code",
      "source": [
        "a=np.array([1,2,3])\n",
        "b=np.array([4,5,6])\n",
        "c=np.concatenate((a,b))\n",
        "print(c)"
      ],
      "metadata": {
        "colab": {
          "base_uri": "https://localhost:8080/"
        },
        "id": "2nvTKb3qHubS",
        "outputId": "b9977cd3-47db-447f-ae3b-f415dab51656"
      },
      "execution_count": 11,
      "outputs": [
        {
          "output_type": "stream",
          "name": "stdout",
          "text": [
            "[1 2 3 4 5 6]\n"
          ]
        }
      ]
    },
    {
      "cell_type": "markdown",
      "source": [
        "##Pandas"
      ],
      "metadata": {
        "id": "RRy4X5fnH1X-"
      }
    },
    {
      "cell_type": "markdown",
      "source": [
        "##8. Create a dataframe with 3 rows and 2 columns"
      ],
      "metadata": {
        "id": "wpWEiMyWH6QQ"
      }
    },
    {
      "cell_type": "code",
      "source": [
        "import pandas as pd\n",
        "import numpy as np\n",
        "\n",
        "exam_data  = {'name': ['Anastasia', 'Dima', 'Katherine', 'James', 'Emily', 'Michael', 'Matthew', 'Laura', 'Kevin', 'Jonas'],\n",
        "        'score': [12.5, 9, 16.5, np.nan, 9, 20, 14.5, np.nan, 8, 19],\n",
        "        'attempts': [1, 3, 2, 3, 2, 3, 1, 1, 2, 1],\n",
        "        'qualify': ['yes', 'no', 'yes', 'no', 'no', 'yes', 'yes', 'no', 'no', 'yes']}\n",
        "labels = ['a', 'b', 'c', 'd', 'e', 'f', 'g', 'h', 'i', 'j']\n",
        "\n",
        "df = pd.DataFrame(exam_data , index=labels)\n",
        "print(df)"
      ],
      "metadata": {
        "colab": {
          "base_uri": "https://localhost:8080/"
        },
        "id": "pVoK3r6zH7ED",
        "outputId": "9bec8c65-8687-4e1e-ceff-75b4990fb831"
      },
      "execution_count": 12,
      "outputs": [
        {
          "output_type": "stream",
          "name": "stdout",
          "text": [
            "        name  score  attempts qualify\n",
            "a  Anastasia   12.5         1     yes\n",
            "b       Dima    9.0         3      no\n",
            "c  Katherine   16.5         2     yes\n",
            "d      James    NaN         3      no\n",
            "e      Emily    9.0         2      no\n",
            "f    Michael   20.0         3     yes\n",
            "g    Matthew   14.5         1     yes\n",
            "h      Laura    NaN         1      no\n",
            "i      Kevin    8.0         2      no\n",
            "j      Jonas   19.0         1     yes\n"
          ]
        }
      ]
    },
    {
      "cell_type": "markdown",
      "source": [
        "##9. Generate the series of dates from 1st Jan, 2023 to 10th Feb, 2023"
      ],
      "metadata": {
        "id": "DRTkdL6ZIEFQ"
      }
    },
    {
      "cell_type": "code",
      "source": [
        "import datetime\n",
        "import pandas as pd\n",
        "\n",
        "#initalizing date\n",
        "test_date = datetime.datetime.strptime(\"01-1-2023\", \"%d-%m-%Y\")\n",
        "\n",
        "# intializing K\n",
        "K = 41\n",
        "\n",
        "date_generated = pd.date_range(test_date, periods=K)\n",
        "print(date_generated.strftime(\"%d-%m-%Y\"))"
      ],
      "metadata": {
        "colab": {
          "base_uri": "https://localhost:8080/"
        },
        "id": "OvCIccLNIFOT",
        "outputId": "bf5fd285-69ed-4bff-d3b1-9271a9241981"
      },
      "execution_count": 13,
      "outputs": [
        {
          "output_type": "stream",
          "name": "stdout",
          "text": [
            "Index(['01-01-2023', '02-01-2023', '03-01-2023', '04-01-2023', '05-01-2023',\n",
            "       '06-01-2023', '07-01-2023', '08-01-2023', '09-01-2023', '10-01-2023',\n",
            "       '11-01-2023', '12-01-2023', '13-01-2023', '14-01-2023', '15-01-2023',\n",
            "       '16-01-2023', '17-01-2023', '18-01-2023', '19-01-2023', '20-01-2023',\n",
            "       '21-01-2023', '22-01-2023', '23-01-2023', '24-01-2023', '25-01-2023',\n",
            "       '26-01-2023', '27-01-2023', '28-01-2023', '29-01-2023', '30-01-2023',\n",
            "       '31-01-2023', '01-02-2023', '02-02-2023', '03-02-2023', '04-02-2023',\n",
            "       '05-02-2023', '06-02-2023', '07-02-2023', '08-02-2023', '09-02-2023',\n",
            "       '10-02-2023'],\n",
            "      dtype='object')\n"
          ]
        }
      ]
    },
    {
      "cell_type": "markdown",
      "source": [
        "##10. Create 2D list to DataFrame"
      ],
      "metadata": {
        "id": "M3J73P79IP1L"
      }
    },
    {
      "cell_type": "code",
      "source": [
        "lists = [[1, 'aaa', 22], [2, 'bbb', 25], [3, 'ccc', 24]]"
      ],
      "metadata": {
        "id": "9v85IIzWIQt0"
      },
      "execution_count": 14,
      "outputs": []
    },
    {
      "cell_type": "code",
      "source": [
        "import pandas as pd\n",
        "a=[[1,'aaa',22],[2,'bbb',25],[3,'ccc',24]]\n",
        "print(type(a))\n",
        "\n",
        "for b in a:\n",
        "  for j in b:\n",
        "    print(j)\n",
        "dt=zip(a)\n",
        "df=pd.DataFrame(dt,columns=[\"d\"])\n",
        "print(type(df))\n",
        "print(df)"
      ],
      "metadata": {
        "colab": {
          "base_uri": "https://localhost:8080/"
        },
        "id": "JWaU0PP4IdLp",
        "outputId": "04355530-a037-4a63-8d67-90b0f31e8abd"
      },
      "execution_count": 15,
      "outputs": [
        {
          "output_type": "stream",
          "name": "stdout",
          "text": [
            "<class 'list'>\n",
            "1\n",
            "aaa\n",
            "22\n",
            "2\n",
            "bbb\n",
            "25\n",
            "3\n",
            "ccc\n",
            "24\n",
            "<class 'pandas.core.frame.DataFrame'>\n",
            "              d\n",
            "0  [1, aaa, 22]\n",
            "1  [2, bbb, 25]\n",
            "2  [3, ccc, 24]\n"
          ]
        }
      ]
    },
    {
      "cell_type": "code",
      "source": [],
      "metadata": {
        "id": "oMXg_rvoIgw5"
      },
      "execution_count": null,
      "outputs": []
    }
  ]
}